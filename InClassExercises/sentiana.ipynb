{
 "cells": [
  {
   "cell_type": "code",
   "execution_count": 1,
   "metadata": {},
   "outputs": [
    {
     "name": "stdout",
     "output_type": "stream",
     "text": [
      "Requirement already satisfied: snownlp in /Users/kathy/opt/anaconda3/lib/python3.7/site-packages (0.12.3)\n",
      "\u001b[33mWARNING: You are using pip version 21.2.2; however, version 22.2.2 is available.\n",
      "You should consider upgrading via the '/Users/kathy/opt/anaconda3/bin/python -m pip install --upgrade pip' command.\u001b[0m\n"
     ]
    }
   ],
   "source": [
    "!pip install snownlp\n",
    "#pip list"
   ]
  },
  {
   "cell_type": "code",
   "execution_count": 2,
   "metadata": {},
   "outputs": [],
   "source": [
    "from snownlp import SnowNLP\n",
    "\n",
    "s = SnowNLP(u'今天是周六。')"
   ]
  },
  {
   "cell_type": "code",
   "execution_count": 3,
   "metadata": {},
   "outputs": [
    {
     "data": {
      "text/plain": [
       "['今天', '是', '周六', '。']"
      ]
     },
     "execution_count": 3,
     "metadata": {},
     "output_type": "execute_result"
    }
   ],
   "source": [
    "s.words"
   ]
  },
  {
   "cell_type": "code",
   "execution_count": 4,
   "metadata": {},
   "outputs": [
    {
     "data": {
      "text/plain": [
       "[('我', 'r'), ('喜欢', 'v'), ('学', 'v'), ('语言', 'n'), ('。', 'w')]"
      ]
     },
     "execution_count": 4,
     "metadata": {},
     "output_type": "execute_result"
    }
   ],
   "source": [
    "s = SnowNLP(u'我喜欢学语言。')\n",
    "list(s.tags)"
   ]
  },
  {
   "cell_type": "code",
   "execution_count": 5,
   "metadata": {},
   "outputs": [
    {
     "data": {
      "text/plain": [
       "'我喜欢学语言。'"
      ]
     },
     "execution_count": 5,
     "metadata": {},
     "output_type": "execute_result"
    }
   ],
   "source": [
    "s.han"
   ]
  },
  {
   "cell_type": "code",
   "execution_count": 6,
   "metadata": {},
   "outputs": [
    {
     "name": "stdout",
     "output_type": "stream",
     "text": [
      "0.8675081527338344\n",
      "0.8675081527338344\n"
     ]
    }
   ],
   "source": [
    "text_1 = '人生好难啊'\n",
    "s_1 = SnowNLP(text_1)\n",
    "text_2 = '人生好难啊，要怎样才能每天开心的活着呢？'\n",
    "s_2 = SnowNLP(text_1)\n",
    "print(s_1.sentiments)\n",
    "print(s_2.sentiments)\n"
   ]
  },
  {
   "cell_type": "code",
   "execution_count": 7,
   "metadata": {},
   "outputs": [
    {
     "name": "stdout",
     "output_type": "stream",
     "text": [
      "0.5552019733877455\n",
      "0.8877537976021194\n",
      "0.5864302872787684\n",
      "0.5138566178336468\n"
     ]
    }
   ],
   "source": [
    "text_3 = SnowNLP(u'时间不够用，每天还是努力学习。也许我是傻蛋，但我有一天会成功')\n",
    "sent = text_3.sentences\n",
    "for sen in sent:\n",
    "    s_3 = SnowNLP(sen)\n",
    "    print(s_3.sentiments)"
   ]
  },
  {
   "cell_type": "markdown",
   "metadata": {},
   "source": [
    "    ## 規則不好寫，可以參見\n",
    "    ```\n",
    "    snownlp-master/snownlp/sentiment/neg.txt\n",
    "    snownlp-master/snownlp/sentiment/pos.txt\n",
    "    ```\n",
    "    `vaderSentiment` 算是利用詞典與規則方法中較厲害的，速度也快，但是可惜不支援中文。\n",
    "    https://github.com/cjhutto/vaderSentiment/blob/master/vaderSentiment/vader_lexicon.txt\n",
    "    ```"
   ]
  },
  {
   "cell_type": "code",
   "execution_count": null,
   "metadata": {},
   "outputs": [],
   "source": []
  }
 ],
 "metadata": {
  "kernelspec": {
   "display_name": "Python 3.7.6 ('base')",
   "language": "python",
   "name": "python3"
  },
  "language_info": {
   "codemirror_mode": {
    "name": "ipython",
    "version": 3
   },
   "file_extension": ".py",
   "mimetype": "text/x-python",
   "name": "python",
   "nbconvert_exporter": "python",
   "pygments_lexer": "ipython3",
   "version": "3.7.6"
  },
  "orig_nbformat": 4,
  "vscode": {
   "interpreter": {
    "hash": "4e15c5ee16008245edb94571eaa44bf6523897b18b317a6a84ae67c800137293"
   }
  }
 },
 "nbformat": 4,
 "nbformat_minor": 2
}
